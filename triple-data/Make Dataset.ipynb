{
 "cells": [
  {
   "cell_type": "code",
   "execution_count": 2,
   "metadata": {},
   "outputs": [
    {
     "name": "stdout",
     "output_type": "stream",
     "text": [
      "Collecting rdflib\n",
      "  Downloading rdflib-6.0.2-py3-none-any.whl (407 kB)\n",
      "Requirement already satisfied: setuptools in c:\\users\\user\\anaconda3\\lib\\site-packages (from rdflib) (49.2.0.post20200714)\n",
      "Collecting isodate\n",
      "  Downloading isodate-0.6.0-py2.py3-none-any.whl (45 kB)\n",
      "Requirement already satisfied: pyparsing in c:\\users\\user\\anaconda3\\lib\\site-packages (from rdflib) (2.4.7)\n",
      "Requirement already satisfied: six in c:\\users\\user\\anaconda3\\lib\\site-packages (from isodate->rdflib) (1.15.0)\n",
      "Installing collected packages: isodate, rdflib\n",
      "Successfully installed isodate-0.6.0 rdflib-6.0.2\n"
     ]
    }
   ],
   "source": [
    "! pip install rdflib"
   ]
  },
  {
   "cell_type": "code",
   "execution_count": 1,
   "metadata": {},
   "outputs": [],
   "source": [
    "import rdflib"
   ]
  },
  {
   "cell_type": "code",
   "execution_count": 2,
   "metadata": {},
   "outputs": [],
   "source": [
    "from rdflib import Graph, Literal, RDF, URIRef, Dataset"
   ]
  },
  {
   "cell_type": "code",
   "execution_count": 3,
   "metadata": {},
   "outputs": [],
   "source": [
    "from random import choice, random"
   ]
  },
  {
   "cell_type": "code",
   "execution_count": 4,
   "metadata": {},
   "outputs": [],
   "source": [
    "import string\n",
    "def randomword(length):\n",
    "    letters = string.ascii_lowercase\n",
    "    return ''.join(choice(letters) for i in range(length))"
   ]
  },
  {
   "cell_type": "code",
   "execution_count": 5,
   "metadata": {},
   "outputs": [],
   "source": [
    "def make_random_graph(size=10, g=None):\n",
    "    # Create a Graph\n",
    "    g = g or Graph()\n",
    "\n",
    "    subjs = []\n",
    "    prefix = 'http://vstu.ru/poas/code#'\n",
    "    \n",
    "    for _ in range(size):\n",
    "        if not subjs or random() < 0.2:\n",
    "            subj = URIRef(prefix + randomword(15))\n",
    "            subjs.append(subj)\n",
    "        else:\n",
    "            subj = choice(subjs)\n",
    "            \n",
    "        # add a triple\n",
    "        obj = choice([Literal(randomword(8)), choice(subjs)])\n",
    "        g.add((subj, URIRef(prefix + randomword(10)), obj))\n",
    "    \n",
    "    \n",
    "    return g;\n"
   ]
  },
  {
   "cell_type": "code",
   "execution_count": 6,
   "metadata": {},
   "outputs": [],
   "source": [
    "# %%time\n",
    "# for n in [10**x for x in range(1, 6 + 1)]:\n",
    "#     make_random_graph(n).serialize(f\"g-{n}.ttl\")\n",
    "    "
   ]
  },
  {
   "cell_type": "code",
   "execution_count": 7,
   "metadata": {},
   "outputs": [
    {
     "name": "stdout",
     "output_type": "stream",
     "text": [
      "Wall time: 18.8 s\n"
     ]
    }
   ],
   "source": [
    "%%time\n",
    "\n",
    "ds = Dataset()\n",
    "\n",
    "for n in [10**x for x in range(1, 5 + 1)]:\n",
    "    g = ds.graph(f\"g-{n}\")\n",
    "    g2 = make_random_graph(n)\n",
    "#     print(g2.serialize())\n",
    "    g += g2"
   ]
  },
  {
   "cell_type": "code",
   "execution_count": 8,
   "metadata": {},
   "outputs": [
    {
     "data": {
      "text/plain": [
       "[<Graph identifier=g-10 (<class 'rdflib.graph.Graph'>)>,\n",
       " <Graph identifier=g-1000 (<class 'rdflib.graph.Graph'>)>,\n",
       " <Graph identifier=g-100 (<class 'rdflib.graph.Graph'>)>,\n",
       " <Graph identifier=g-100000 (<class 'rdflib.graph.Graph'>)>,\n",
       " <Graph identifier=g-10000 (<class 'rdflib.graph.Graph'>)>,\n",
       " <Graph identifier=urn:x-rdflib:default (<class 'rdflib.graph.Graph'>)>]"
      ]
     },
     "execution_count": 8,
     "metadata": {},
     "output_type": "execute_result"
    }
   ],
   "source": [
    "[*ds.graphs()]"
   ]
  },
  {
   "cell_type": "code",
   "execution_count": 9,
   "metadata": {},
   "outputs": [],
   "source": [
    "# save everything\n",
    "ds.serialize(\"graphs.trig\", format='trig')"
   ]
  },
  {
   "cell_type": "code",
   "execution_count": 12,
   "metadata": {},
   "outputs": [
    {
     "data": {
      "text/plain": [
       "rdflib.term.URIRef('g-10')"
      ]
     },
     "execution_count": 12,
     "metadata": {},
     "output_type": "execute_result"
    }
   ],
   "source": [
    "g.identifier"
   ]
  },
  {
   "cell_type": "code",
   "execution_count": 13,
   "metadata": {},
   "outputs": [],
   "source": [
    "# save every graph as separate file\n",
    "for g in ds.graphs():\n",
    "    g.serialize(g.identifier.toPython() + '.ttl', format='turtle')"
   ]
  },
  {
   "cell_type": "code",
   "execution_count": null,
   "metadata": {},
   "outputs": [],
   "source": []
  },
  {
   "cell_type": "code",
   "execution_count": 22,
   "metadata": {},
   "outputs": [
    {
     "data": {
      "text/plain": [
       "[]"
      ]
     },
     "execution_count": 22,
     "metadata": {},
     "output_type": "execute_result"
    }
   ],
   "source": [
    "[*g.triples((None, None, None))]"
   ]
  },
  {
   "cell_type": "code",
   "execution_count": null,
   "metadata": {},
   "outputs": [],
   "source": []
  }
 ],
 "metadata": {
  "kernelspec": {
   "display_name": "Python 3",
   "language": "python",
   "name": "python3"
  },
  "language_info": {
   "codemirror_mode": {
    "name": "ipython",
    "version": 3
   },
   "file_extension": ".py",
   "mimetype": "text/x-python",
   "name": "python",
   "nbconvert_exporter": "python",
   "pygments_lexer": "ipython3",
   "version": "3.9.2"
  }
 },
 "nbformat": 4,
 "nbformat_minor": 4
}
